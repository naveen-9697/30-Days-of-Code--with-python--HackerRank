{
 "cells": [
  {
   "cell_type": "code",
   "execution_count": null,
   "metadata": {},
   "outputs": [],
   "source": [
    "#!/bin/python3\n",
    "\n",
    "import math\n",
    "import os\n",
    "import random\n",
    "import re\n",
    "import sys\n",
    "\n",
    "meal_cost = float(input())\n",
    "tip_perc = int(input())\n",
    "tax_perc = int(input())\n",
    "\n",
    "tip = ( meal_cost * (tip_perc /100))\n",
    "tax = (meal_cost * (tax_perc/100))\n",
    "total_bill = meal_cost + tip + tax\n",
    "\n",
    "print(\"The total meal cost is %d dollars.\" %round(total_bill))"
   ]
  }
 ],
 "metadata": {
  "kernelspec": {
   "display_name": "Python 3",
   "language": "python",
   "name": "python3"
  },
  "language_info": {
   "codemirror_mode": {
    "name": "ipython",
    "version": 3
   },
   "file_extension": ".py",
   "mimetype": "text/x-python",
   "name": "python",
   "nbconvert_exporter": "python",
   "pygments_lexer": "ipython3",
   "version": "3.6.8"
  }
 },
 "nbformat": 4,
 "nbformat_minor": 2
}
